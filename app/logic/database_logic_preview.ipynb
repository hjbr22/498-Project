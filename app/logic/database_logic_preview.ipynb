{
 "cells": [
  {
   "cell_type": "code",
   "execution_count": 1,
   "metadata": {},
   "outputs": [],
   "source": [
    "import pandas as pd\n",
    "\n",
    "def split_time_range(value):\n",
    "    if pd.isna(value): \n",
    "        return pd.Series([None, None], index=['start', 'end'])\n",
    "    if value in ['NONE', 'ALL']:\n",
    "        return pd.Series([value, value], index=['start', 'end'])\n",
    "    if ',' in str(value): \n",
    "        start, end = value.split(',', 1)\n",
    "        return pd.Series([start.strip(), end.strip()], index=['start', 'end'])\n",
    "    return pd.Series([value, value], index=['start', 'end'])\n",
    "\n",
    "def get_parking_lots_single(df, time, parking_pass):\n",
    "    pass_row = df[df.iloc[:, 0] == parking_pass]\n",
    "    \n",
    "    if pass_row.empty:\n",
    "        return []\n",
    "    \n",
    "    available_lots = []\n",
    "    for col in df.columns:\n",
    "        if not (col.endswith('_start') or col.endswith('_end')):\n",
    "            continue\n",
    "        \n",
    "        base_col = col.rsplit('_', 1)[0]\n",
    "        \n",
    "        start = pass_row[f'{base_col}_start'].values[0]\n",
    "        end = pass_row[f'{base_col}_end'].values[0]\n",
    "        \n",
    "        if start == 'ALL' or end == 'ALL':\n",
    "            available_lots.append(base_col) \n",
    "        elif start == 'NONE' or end == 'NONE':\n",
    "            continue\n",
    "        else:\n",
    "            try:\n",
    "                if (start == None) or (end == None):\n",
    "                    continue\n",
    "                start = int(start)\n",
    "                end = int(end)\n",
    "                if start <= time <= end:\n",
    "                    available_lots.append(base_col) \n",
    "            except ValueError:\n",
    "                continue \n",
    "\n",
    "    available_lots = list(set(available_lots))\n",
    "\n",
    "    return available_lots\n",
    "\n",
    "def get_parking_lots_main(excel_path, time, weekend_bool, parking_pass):\n",
    "    weekday_times = pd.read_excel(excel_path, sheet_name=\"Weekday Times\") \n",
    "    weekend_times = pd.read_excel(excel_path, sheet_name=\"Weekend Times\") \n",
    "\n",
    "    if weekend_bool:\n",
    "        weekend_times_split = pd.DataFrame()\n",
    "        for col in weekend_times.columns:\n",
    "            split_columns = weekend_times[col].apply(split_time_range)\n",
    "            split_columns.columns = [f'{col}_start', f'{col}_end']\n",
    "            weekend_times_split = pd.concat([weekend_times_split, split_columns], axis=1)\n",
    "        return get_parking_lots_single(weekend_times_split, time, parking_pass)\n",
    "    else:\n",
    "        weekday_times_split = pd.DataFrame()\n",
    "        for col in weekday_times.columns:\n",
    "            split_columns = weekday_times[col].apply(split_time_range)\n",
    "            split_columns.columns = [f'{col}_start', f'{col}_end']\n",
    "            weekday_times_split = pd.concat([weekday_times_split, split_columns], axis=1)\n",
    "        return get_parking_lots_single(weekday_times_split, time, parking_pass)"
   ]
  },
  {
   "cell_type": "code",
   "execution_count": null,
   "metadata": {},
   "outputs": [
    {
     "data": {
      "text/plain": [
       "['Green',\n",
       " 'Sports Center Garage',\n",
       " 'E2',\n",
       " 'College Way E',\n",
       " 'KF Blue',\n",
       " 'Sport Center Drive',\n",
       " 'Complex Drive',\n",
       " 'Columbia Ave',\n",
       " 'E27',\n",
       " 'KF Orange',\n",
       " 'KF Orange.1',\n",
       " 'Wildcat Court',\n",
       " 'KF Red',\n",
       " 'KF Periphery',\n",
       " 'South Broadway',\n",
       " 'PS1',\n",
       " 'North Red',\n",
       " 'E28',\n",
       " 'College Way W',\n",
       " 'Shively',\n",
       " 'PS6',\n",
       " 'E7',\n",
       " 'Large Gluck',\n",
       " 'Scott Street Area',\n",
       " 'Commonwealth Drive',\n",
       " 'Memorial Coliseum',\n",
       " 'PS5',\n",
       " 'PS2']"
      ]
     },
     "execution_count": 2,
     "metadata": {},
     "output_type": "execute_result"
    }
   ],
   "source": [
    "get_parking_lots_main(\"../data/UK Parking.xlsx\", 1700, True, 'Core')"
   ]
  }
 ],
 "metadata": {
  "kernelspec": {
   "display_name": "Python 3",
   "language": "python",
   "name": "python3"
  },
  "language_info": {
   "codemirror_mode": {
    "name": "ipython",
    "version": 3
   },
   "file_extension": ".py",
   "mimetype": "text/x-python",
   "name": "python",
   "nbconvert_exporter": "python",
   "pygments_lexer": "ipython3",
   "version": "3.11.9"
  }
 },
 "nbformat": 4,
 "nbformat_minor": 2
}
